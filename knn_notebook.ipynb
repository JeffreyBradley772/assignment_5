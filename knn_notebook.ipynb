{
 "cells": [
  {
   "cell_type": "markdown",
   "metadata": {
    "collapsed": true,
    "pycharm": {
     "name": "#%% md\n"
    }
   },
   "source": [
    "KNN Learner\n",
    "Authors: Taylor Tucker and Jeff Bradley"
   ]
  },
  {
   "cell_type": "markdown",
   "source": [
    "Import statements"
   ],
   "metadata": {
    "collapsed": false,
    "pycharm": {
     "name": "#%% md\n"
    }
   }
  },
  {
   "cell_type": "code",
   "source": [
    "from sklearn.neighbors import KNeighborsClassifier\n",
    "import pandas as pd\n",
    "import numpy as np\n",
    "import matplotlib.pyplot as plt\n",
    "from sklearn.preprocessing import MaxAbsScaler\n",
    "from sklearn.model_selection import train_test_split"
   ],
   "metadata": {
    "collapsed": false,
    "pycharm": {
     "name": "#%%\n"
    }
   },
   "execution_count": 17,
   "outputs": []
  },
  {
   "cell_type": "markdown",
   "source": [
    "Importing and cleaning the data"
   ],
   "metadata": {
    "collapsed": false
   }
  },
  {
   "cell_type": "code",
   "execution_count": 18,
   "outputs": [
    {
     "name": "stdout",
     "output_type": "stream",
     "text": [
      "   diagnosis_result  radius  texture  perimeter  area  smoothness  \\\n",
      "0                 1      23       12        151   954       0.143   \n",
      "1                 0       9       13        133  1326       0.143   \n",
      "2                 1      21       27        130  1203       0.125   \n",
      "3                 1      14       16         78   386       0.070   \n",
      "4                 1       9       19        135  1297       0.141   \n",
      "\n",
      "   compactness  symmetry  fractal_dimension  \n",
      "0        0.278     0.242              0.079  \n",
      "1        0.079     0.181              0.057  \n",
      "2        0.160     0.207              0.060  \n",
      "3        0.284     0.260              0.097  \n",
      "4        0.133     0.181              0.059  \n"
     ]
    }
   ],
   "source": [
    "# Importing dataset\n",
    "df = pd.read_csv(\"./prostate-cancer-prediction.csv\")\n",
    "columns = [\"id\", \"diagnosis_result\", \"radius\", \"texture\", \"perimeter\", \"area\", \"smoothness\",\n",
    "           \"compactness\", \"symmetry\", \"fractal_dimension\"]\n",
    "\n",
    "df.columns = columns\n",
    "\n",
    "# changing result M and B to 1 and 0 respectively\n",
    "df.diagnosis_result = df.diagnosis_result.replace(\"M\", 1)\n",
    "df.diagnosis_result = df.diagnosis_result.replace(\"B\", 0)\n",
    "\n",
    "# dont need the ID column!\n",
    "df.drop(\"id\", inplace=True, axis=1)\n",
    "\n",
    "print(df.head())"
   ],
   "metadata": {
    "collapsed": false,
    "pycharm": {
     "name": "#%%\n"
    }
   }
  },
  {
   "cell_type": "markdown",
   "source": [
    "Splitting the data into x and y components"
   ],
   "metadata": {
    "collapsed": false
   }
  },
  {
   "cell_type": "code",
   "source": [
    "x = df[[\"radius\", \"texture\", \"perimeter\", \"area\", \"smoothness\",\n",
    "        \"compactness\", \"symmetry\", \"fractal_dimension\"]]\n",
    "y = df[\"diagnosis_result\"]"
   ],
   "metadata": {
    "collapsed": false,
    "pycharm": {
     "name": "#%%\n"
    }
   },
   "execution_count": 19,
   "outputs": []
  },
  {
   "cell_type": "markdown",
   "source": [
    "Scaling the data using Max absolute value Scaler, which maintains the spatial relationships of the datapoints."
   ],
   "metadata": {
    "collapsed": false
   }
  },
  {
   "cell_type": "code",
   "execution_count": 20,
   "outputs": [
    {
     "name": "stderr",
     "output_type": "stream",
     "text": [
      "/Library/Frameworks/Python.framework/Versions/3.7/lib/python3.7/site-packages/sklearn/utils/validation.py:70: FutureWarning: Pass copy=    radius  texture  perimeter  area  smoothness  compactness  symmetry  \\\n",
      "0       23       12        151   954       0.143        0.278     0.242   \n",
      "1        9       13        133  1326       0.143        0.079     0.181   \n",
      "2       21       27        130  1203       0.125        0.160     0.207   \n",
      "3       14       16         78   386       0.070        0.284     0.260   \n",
      "4        9       19        135  1297       0.141        0.133     0.181   \n",
      "..     ...      ...        ...   ...         ...          ...       ...   \n",
      "95      23       16        132  1264       0.091        0.131     0.210   \n",
      "96      22       14         78   451       0.105        0.071     0.190   \n",
      "97      19       27         62   295       0.102        0.053     0.135   \n",
      "98      21       24         74   413       0.090        0.075     0.162   \n",
      "99      16       27         94   643       0.098        0.114     0.188   \n",
      "\n",
      "    fractal_dimension  \n",
      "0               0.079  \n",
      "1               0.057  \n",
      "2               0.060  \n",
      "3               0.097  \n",
      "4               0.059  \n",
      "..                ...  \n",
      "95              0.056  \n",
      "96              0.066  \n",
      "97              0.069  \n",
      "98              0.066  \n",
      "99              0.064  \n",
      "\n",
      "[100 rows x 8 columns] as keyword args. From version 0.25 passing these as positional arguments will result in an error\n",
      "  FutureWarning)\n"
     ]
    },
    {
     "data": {
      "text/plain": "MaxAbsScaler(copy=    radius  texture  perimeter  area  smoothness  compactness  symmetry  \\\n0       23       12        151   954       0.143        0.278     0.242   \n1        9       13        133  1326       0.143        0.079     0.181   \n2       21       27        130  1203       0.125        0.160     0.207   \n3       14       16         78   386       0.070        0.284     0.260   \n4        9       19        135  1297       0.141        0.133     0.181   \n..     ...      ...        ...   ...         ...          ...       ...   \n95      23       16        132  1264       0.091        0.131     0.210   \n96      22       14         78   451       0.105        0.071     0.190   \n97      19       27         62   295       0.102        0.053     0.135   \n98      21       24         74   413       0.090        0.075     0.162   \n99      16       27         94   643       0.098        0.114     0.188   \n\n    fractal_dimension  \n0               0.079  \n1               0.057  \n2               0.060  \n3               0.097  \n4               0.059  \n..                ...  \n95              0.056  \n96              0.066  \n97              0.069  \n98              0.066  \n99              0.064  \n\n[100 rows x 8 columns])"
     },
     "execution_count": 20,
     "metadata": {},
     "output_type": "execute_result"
    }
   ],
   "source": [
    "MaxAbsScaler(x)"
   ],
   "metadata": {
    "collapsed": false,
    "pycharm": {
     "name": "#%%\n"
    }
   }
  },
  {
   "cell_type": "markdown",
   "source": [
    "Splitting into training and testing data on a 70-30 train test ratio"
   ],
   "metadata": {
    "collapsed": false
   }
  },
  {
   "cell_type": "code",
   "execution_count": 21,
   "outputs": [],
   "source": [
    "x_train, x_test, y_train, y_test = train_test_split(x, y, test_size=0.30)"
   ],
   "metadata": {
    "collapsed": false,
    "pycharm": {
     "name": "#%%\n"
    }
   }
  },
  {
   "cell_type": "markdown",
   "source": [
    "Creating the model using SK Learn API\n",
    "TODO: Do a grid search to find the best hyperparameters"
   ],
   "metadata": {
    "collapsed": false
   }
  },
  {
   "cell_type": "code",
   "execution_count": 22,
   "outputs": [],
   "source": [
    "model = KNeighborsClassifier(n_neighbors=5, leaf_size=5)"
   ],
   "metadata": {
    "collapsed": false,
    "pycharm": {
     "name": "#%%\n"
    }
   }
  },
  {
   "cell_type": "markdown",
   "source": [
    "Training the model using training data\n"
   ],
   "metadata": {
    "collapsed": false
   }
  },
  {
   "cell_type": "code",
   "execution_count": 23,
   "outputs": [
    {
     "data": {
      "text/plain": "KNeighborsClassifier(leaf_size=5)"
     },
     "execution_count": 23,
     "metadata": {},
     "output_type": "execute_result"
    }
   ],
   "source": [
    "model.fit(x_train, y_train)"
   ],
   "metadata": {
    "collapsed": false,
    "pycharm": {
     "name": "#%%\n"
    }
   }
  }
 ],
 "metadata": {
  "kernelspec": {
   "display_name": "Python 3",
   "language": "python",
   "name": "python3"
  },
  "language_info": {
   "codemirror_mode": {
    "name": "ipython",
    "version": 2
   },
   "file_extension": ".py",
   "mimetype": "text/x-python",
   "name": "python",
   "nbconvert_exporter": "python",
   "pygments_lexer": "ipython2",
   "version": "2.7.6"
  }
 },
 "nbformat": 4,
 "nbformat_minor": 0
}