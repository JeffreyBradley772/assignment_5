{
 "cells": [
  {
   "cell_type": "markdown",
   "metadata": {
    "collapsed": true,
    "pycharm": {
     "name": "#%% md\n"
    }
   },
   "source": [
    "KNN Learner\n",
    "Authors: Taylor Tucker and Jeff Bradley"
   ]
  },
  {
   "cell_type": "markdown",
   "source": [
    "Import statements"
   ],
   "metadata": {
    "collapsed": false,
    "pycharm": {
     "name": "#%% md\n"
    }
   }
  },
  {
   "cell_type": "code",
   "source": [
    "from sklearn.neighbors import KNeighborsClassifier\n",
    "import pandas as pd\n",
    "import numpy as np\n",
    "import matplotlib.pyplot as plt\n",
    "from sklearn.preprocessing import MaxAbsScaler\n",
    "from sklearn.model_selection import train_test_split"
   ],
   "metadata": {
    "collapsed": false,
    "pycharm": {
     "name": "#%%\n"
    }
   },
   "execution_count": 1,
   "outputs": []
  },
  {
   "cell_type": "markdown",
   "source": [
    "Importing and cleaning the data"
   ],
   "metadata": {
    "collapsed": false
   }
  },
  {
   "cell_type": "code",
   "execution_count": 2,
   "outputs": [
    {
     "name": "stdout",
     "output_type": "stream",
     "text": [
      "  diagnosis_result  radius  texture  perimeter  area  smoothness  compactness  \\\n",
      "0                M      23       12        151   954       0.143        0.278   \n",
      "1                B       9       13        133  1326       0.143        0.079   \n",
      "2                M      21       27        130  1203       0.125        0.160   \n",
      "3                M      14       16         78   386       0.070        0.284   \n",
      "4                M       9       19        135  1297       0.141        0.133   \n",
      "\n",
      "   symmetry  fractal_dimension  \n",
      "0     0.242              0.079  \n",
      "1     0.181              0.057  \n",
      "2     0.207              0.060  \n",
      "3     0.260              0.097  \n",
      "4     0.181              0.059  \n"
     ]
    },
    {
     "name": "stderr",
     "output_type": "stream",
     "text": [
      "/Library/Frameworks/Python.framework/Versions/3.7/lib/python3.7/site-packages/ipykernel_launcher.py:9: SettingWithCopyWarning: \n",
      "A value is trying to be set on a copy of a slice from a DataFrame\n",
      "\n",
      "See the caveats in the documentation: https://pandas.pydata.org/pandas-docs/stable/user_guide/indexing.html#returning-a-view-versus-a-copy\n",
      "  if __name__ == '__main__':\n"
     ]
    }
   ],
   "source": [
    "# Importing dataset\n",
    "df = pd.read_csv(\"./prostate-cancer-prediction.csv\")\n",
    "columns = [\"id\", \"diagnosis_result\", \"radius\", \"texture\", \"perimeter\", \"area\", \"smoothness\",\n",
    "           \"compactness\", \"symmetry\", \"fractal_dimension\"]\n",
    "\n",
    "df.columns = columns\n",
    "\n",
    "# changing result M and B to 1 and 0 respectively\n",
    "df.diagnosis_result[\"M\"] = 1\n",
    "df.diagnosis_result[\"B\"] = 0\n",
    "\n",
    "\"\"\"\n",
    "i = 0\n",
    "for result in df[\"diagnosis_result\"]:\n",
    "    if result == \"M\":\n",
    "        df.diagnosis_result.iloc[i] = 1\n",
    "    else:\n",
    "        df.diagnosis_result.iloc[i] = 0\n",
    "    i += 1\n",
    "\"\"\"\n",
    "\n",
    "# dont need the ID column!\n",
    "df.drop(\"id\", inplace=True, axis=1)\n",
    "\n",
    "print(df.head())"
   ],
   "metadata": {
    "collapsed": false,
    "pycharm": {
     "name": "#%%\n"
    }
   }
  }
 ],
 "metadata": {
  "kernelspec": {
   "display_name": "Python 3",
   "language": "python",
   "name": "python3"
  },
  "language_info": {
   "codemirror_mode": {
    "name": "ipython",
    "version": 2
   },
   "file_extension": ".py",
   "mimetype": "text/x-python",
   "name": "python",
   "nbconvert_exporter": "python",
   "pygments_lexer": "ipython2",
   "version": "2.7.6"
  }
 },
 "nbformat": 4,
 "nbformat_minor": 0
}